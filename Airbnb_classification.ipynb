{
 "cells": [
  {
   "cell_type": "markdown",
   "metadata": {},
   "source": [
    "## Airbnb\n",
    "https://www.kaggle.com/c/airbnb-recruiting-new-user-bookings/data\n"
   ]
  },
  {
   "cell_type": "code",
   "execution_count": 2,
   "metadata": {
    "collapsed": true
   },
   "outputs": [],
   "source": [
    "import pandas as pd\n",
    "from sklearn.cluster import KMeans \n",
    "import matplotlib.pyplot as plt # Python defacto plotting library\n",
    "import seaborn as sns \n",
    "%matplotlib inline "
   ]
  },
  {
   "cell_type": "code",
   "execution_count": 3,
   "metadata": {
    "collapsed": false
   },
   "outputs": [],
   "source": [
    "age_gender_bkts = pd.read_csv('/Users/kubla/Documents/Kubla/Tech/Kaggle/Airbnb/age_gender_bkts.csv')\n",
    "countries = pd.read_csv('/Users/kubla/Documents/Kubla/Tech/Kaggle/Airbnb/countries.csv')\n",
    "#sessions = pd.read_csv('/Users/kubla/Documents/Kubla/Tech/Kaggle/Airbnb/sessions.csv')\n",
    "test_users = pd.read_csv('/Users/kubla/Documents/Kubla/Tech/Kaggle/Airbnb/test_users.csv')\n",
    "train_users = pd.read_csv('/Users/kubla/Documents/Kubla/Tech/Kaggle/Airbnb/train_users_2.csv')"
   ]
  },
  {
   "cell_type": "code",
   "execution_count": 47,
   "metadata": {
    "collapsed": true
   },
   "outputs": [],
   "source": [
    "train = train_users.copy()\n",
    "test = test_users.copy()\n",
    "target = train.country_destination"
   ]
  },
  {
   "cell_type": "code",
   "execution_count": 42,
   "metadata": {
    "collapsed": false
   },
   "outputs": [
    {
     "data": {
      "text/plain": [
       "Index(['id', 'date_account_created', 'timestamp_first_active',\n",
       "       'date_first_booking', 'gender', 'age', 'signup_method', 'signup_flow',\n",
       "       'language', 'affiliate_channel', 'affiliate_provider',\n",
       "       'first_affiliate_tracked', 'signup_app', 'first_device_type',\n",
       "       'first_browser', 'country_destination'],\n",
       "      dtype='object')"
      ]
     },
     "execution_count": 42,
     "metadata": {},
     "output_type": "execute_result"
    }
   ],
   "source": [
    "train.columns"
   ]
  },
  {
   "cell_type": "code",
   "execution_count": 39,
   "metadata": {
    "collapsed": false
   },
   "outputs": [
    {
     "data": {
      "text/plain": [
       "Index(['id', 'date_account_created', 'timestamp_first_active',\n",
       "       'date_first_booking', 'gender', 'age', 'signup_method', 'signup_flow',\n",
       "       'language', 'affiliate_channel', 'affiliate_provider',\n",
       "       'first_affiliate_tracked', 'signup_app', 'first_device_type',\n",
       "       'first_browser'],\n",
       "      dtype='object')"
      ]
     },
     "execution_count": 39,
     "metadata": {},
     "output_type": "execute_result"
    }
   ],
   "source": [
    "test.columns"
   ]
  },
  {
   "cell_type": "code",
   "execution_count": 48,
   "metadata": {
    "collapsed": false
   },
   "outputs": [],
   "source": [
    "train = train.drop(train.columns[15], axis = 1)"
   ]
  },
  {
   "cell_type": "code",
   "execution_count": 62,
   "metadata": {
    "collapsed": false
   },
   "outputs": [
    {
     "data": {
      "text/html": [
       "<div>\n",
       "<table border=\"1\" class=\"dataframe\">\n",
       "  <thead>\n",
       "    <tr style=\"text-align: right;\">\n",
       "      <th></th>\n",
       "      <th></th>\n",
       "      <th>id</th>\n",
       "      <th>date_account_created</th>\n",
       "      <th>timestamp_first_active</th>\n",
       "      <th>date_first_booking</th>\n",
       "      <th>gender</th>\n",
       "      <th>age</th>\n",
       "      <th>signup_method</th>\n",
       "      <th>signup_flow</th>\n",
       "      <th>language</th>\n",
       "      <th>affiliate_channel</th>\n",
       "      <th>affiliate_provider</th>\n",
       "      <th>first_affiliate_tracked</th>\n",
       "      <th>signup_app</th>\n",
       "      <th>first_device_type</th>\n",
       "      <th>first_browser</th>\n",
       "    </tr>\n",
       "  </thead>\n",
       "  <tbody>\n",
       "    <tr>\n",
       "      <th rowspan=\"5\" valign=\"top\">train</th>\n",
       "      <th>0</th>\n",
       "      <td>gxn3p5htnn</td>\n",
       "      <td>2010-06-28</td>\n",
       "      <td>20090319043255</td>\n",
       "      <td>NaN</td>\n",
       "      <td>-unknown-</td>\n",
       "      <td>NaN</td>\n",
       "      <td>facebook</td>\n",
       "      <td>0</td>\n",
       "      <td>en</td>\n",
       "      <td>direct</td>\n",
       "      <td>direct</td>\n",
       "      <td>untracked</td>\n",
       "      <td>Web</td>\n",
       "      <td>Mac Desktop</td>\n",
       "      <td>Chrome</td>\n",
       "    </tr>\n",
       "    <tr>\n",
       "      <th>1</th>\n",
       "      <td>820tgsjxq7</td>\n",
       "      <td>2011-05-25</td>\n",
       "      <td>20090523174809</td>\n",
       "      <td>NaN</td>\n",
       "      <td>MALE</td>\n",
       "      <td>38.0</td>\n",
       "      <td>facebook</td>\n",
       "      <td>0</td>\n",
       "      <td>en</td>\n",
       "      <td>seo</td>\n",
       "      <td>google</td>\n",
       "      <td>untracked</td>\n",
       "      <td>Web</td>\n",
       "      <td>Mac Desktop</td>\n",
       "      <td>Chrome</td>\n",
       "    </tr>\n",
       "    <tr>\n",
       "      <th>2</th>\n",
       "      <td>4ft3gnwmtx</td>\n",
       "      <td>2010-09-28</td>\n",
       "      <td>20090609231247</td>\n",
       "      <td>2010-08-02</td>\n",
       "      <td>FEMALE</td>\n",
       "      <td>56.0</td>\n",
       "      <td>basic</td>\n",
       "      <td>3</td>\n",
       "      <td>en</td>\n",
       "      <td>direct</td>\n",
       "      <td>direct</td>\n",
       "      <td>untracked</td>\n",
       "      <td>Web</td>\n",
       "      <td>Windows Desktop</td>\n",
       "      <td>IE</td>\n",
       "    </tr>\n",
       "    <tr>\n",
       "      <th>3</th>\n",
       "      <td>bjjt8pjhuk</td>\n",
       "      <td>2011-12-05</td>\n",
       "      <td>20091031060129</td>\n",
       "      <td>2012-09-08</td>\n",
       "      <td>FEMALE</td>\n",
       "      <td>42.0</td>\n",
       "      <td>facebook</td>\n",
       "      <td>0</td>\n",
       "      <td>en</td>\n",
       "      <td>direct</td>\n",
       "      <td>direct</td>\n",
       "      <td>untracked</td>\n",
       "      <td>Web</td>\n",
       "      <td>Mac Desktop</td>\n",
       "      <td>Firefox</td>\n",
       "    </tr>\n",
       "    <tr>\n",
       "      <th>4</th>\n",
       "      <td>87mebub9p4</td>\n",
       "      <td>2010-09-14</td>\n",
       "      <td>20091208061105</td>\n",
       "      <td>2010-02-18</td>\n",
       "      <td>-unknown-</td>\n",
       "      <td>41.0</td>\n",
       "      <td>basic</td>\n",
       "      <td>0</td>\n",
       "      <td>en</td>\n",
       "      <td>direct</td>\n",
       "      <td>direct</td>\n",
       "      <td>untracked</td>\n",
       "      <td>Web</td>\n",
       "      <td>Mac Desktop</td>\n",
       "      <td>Chrome</td>\n",
       "    </tr>\n",
       "  </tbody>\n",
       "</table>\n",
       "</div>"
      ],
      "text/plain": [
       "                 id date_account_created  timestamp_first_active  \\\n",
       "train 0  gxn3p5htnn           2010-06-28          20090319043255   \n",
       "      1  820tgsjxq7           2011-05-25          20090523174809   \n",
       "      2  4ft3gnwmtx           2010-09-28          20090609231247   \n",
       "      3  bjjt8pjhuk           2011-12-05          20091031060129   \n",
       "      4  87mebub9p4           2010-09-14          20091208061105   \n",
       "\n",
       "        date_first_booking     gender   age signup_method  signup_flow  \\\n",
       "train 0                NaN  -unknown-   NaN      facebook            0   \n",
       "      1                NaN       MALE  38.0      facebook            0   \n",
       "      2         2010-08-02     FEMALE  56.0         basic            3   \n",
       "      3         2012-09-08     FEMALE  42.0      facebook            0   \n",
       "      4         2010-02-18  -unknown-  41.0         basic            0   \n",
       "\n",
       "        language affiliate_channel affiliate_provider first_affiliate_tracked  \\\n",
       "train 0       en            direct             direct               untracked   \n",
       "      1       en               seo             google               untracked   \n",
       "      2       en            direct             direct               untracked   \n",
       "      3       en            direct             direct               untracked   \n",
       "      4       en            direct             direct               untracked   \n",
       "\n",
       "        signup_app first_device_type first_browser  \n",
       "train 0        Web       Mac Desktop        Chrome  \n",
       "      1        Web       Mac Desktop        Chrome  \n",
       "      2        Web   Windows Desktop            IE  \n",
       "      3        Web       Mac Desktop       Firefox  \n",
       "      4        Web       Mac Desktop        Chrome  "
      ]
     },
     "execution_count": 62,
     "metadata": {},
     "output_type": "execute_result"
    }
   ],
   "source": [
    "df_all = pd.concat([train, test], keys=['train', 'test'])\n",
    "df_all.head()"
   ]
  },
  {
   "cell_type": "code",
   "execution_count": 174,
   "metadata": {
    "collapsed": false
   },
   "outputs": [
    {
     "data": {
      "text/html": [
       "<div>\n",
       "<table border=\"1\" class=\"dataframe\">\n",
       "  <thead>\n",
       "    <tr style=\"text-align: right;\">\n",
       "      <th></th>\n",
       "      <th>age_bucket</th>\n",
       "      <th>country_destination</th>\n",
       "      <th>gender</th>\n",
       "      <th>population_in_thousands</th>\n",
       "      <th>year</th>\n",
       "    </tr>\n",
       "  </thead>\n",
       "  <tbody>\n",
       "    <tr>\n",
       "      <th>0</th>\n",
       "      <td>100+</td>\n",
       "      <td>AU</td>\n",
       "      <td>male</td>\n",
       "      <td>1.0</td>\n",
       "      <td>2015.0</td>\n",
       "    </tr>\n",
       "    <tr>\n",
       "      <th>1</th>\n",
       "      <td>95-99</td>\n",
       "      <td>AU</td>\n",
       "      <td>male</td>\n",
       "      <td>9.0</td>\n",
       "      <td>2015.0</td>\n",
       "    </tr>\n",
       "    <tr>\n",
       "      <th>2</th>\n",
       "      <td>90-94</td>\n",
       "      <td>AU</td>\n",
       "      <td>male</td>\n",
       "      <td>47.0</td>\n",
       "      <td>2015.0</td>\n",
       "    </tr>\n",
       "    <tr>\n",
       "      <th>3</th>\n",
       "      <td>85-89</td>\n",
       "      <td>AU</td>\n",
       "      <td>male</td>\n",
       "      <td>118.0</td>\n",
       "      <td>2015.0</td>\n",
       "    </tr>\n",
       "    <tr>\n",
       "      <th>4</th>\n",
       "      <td>80-84</td>\n",
       "      <td>AU</td>\n",
       "      <td>male</td>\n",
       "      <td>199.0</td>\n",
       "      <td>2015.0</td>\n",
       "    </tr>\n",
       "  </tbody>\n",
       "</table>\n",
       "</div>"
      ],
      "text/plain": [
       "  age_bucket country_destination gender  population_in_thousands    year\n",
       "0       100+                  AU   male                      1.0  2015.0\n",
       "1      95-99                  AU   male                      9.0  2015.0\n",
       "2      90-94                  AU   male                     47.0  2015.0\n",
       "3      85-89                  AU   male                    118.0  2015.0\n",
       "4      80-84                  AU   male                    199.0  2015.0"
      ]
     },
     "execution_count": 174,
     "metadata": {},
     "output_type": "execute_result"
    }
   ],
   "source": [
    "age_gender_bkts.head()"
   ]
  },
  {
   "cell_type": "code",
   "execution_count": 70,
   "metadata": {
    "collapsed": false
   },
   "outputs": [
    {
     "data": {
      "text/html": [
       "<div>\n",
       "<table border=\"1\" class=\"dataframe\">\n",
       "  <thead>\n",
       "    <tr style=\"text-align: right;\">\n",
       "      <th></th>\n",
       "      <th>country_destination</th>\n",
       "      <th>lat_destination</th>\n",
       "      <th>lng_destination</th>\n",
       "      <th>distance_km</th>\n",
       "      <th>destination_km2</th>\n",
       "      <th>destination_language</th>\n",
       "      <th>language_levenshtein_distance</th>\n",
       "    </tr>\n",
       "  </thead>\n",
       "  <tbody>\n",
       "    <tr>\n",
       "      <th>0</th>\n",
       "      <td>AU</td>\n",
       "      <td>-26.853388</td>\n",
       "      <td>133.275160</td>\n",
       "      <td>15297.7440</td>\n",
       "      <td>7741220.0</td>\n",
       "      <td>eng</td>\n",
       "      <td>0.00</td>\n",
       "    </tr>\n",
       "    <tr>\n",
       "      <th>1</th>\n",
       "      <td>CA</td>\n",
       "      <td>62.393303</td>\n",
       "      <td>-96.818146</td>\n",
       "      <td>2828.1333</td>\n",
       "      <td>9984670.0</td>\n",
       "      <td>eng</td>\n",
       "      <td>0.00</td>\n",
       "    </tr>\n",
       "    <tr>\n",
       "      <th>2</th>\n",
       "      <td>DE</td>\n",
       "      <td>51.165707</td>\n",
       "      <td>10.452764</td>\n",
       "      <td>7879.5680</td>\n",
       "      <td>357022.0</td>\n",
       "      <td>deu</td>\n",
       "      <td>72.61</td>\n",
       "    </tr>\n",
       "    <tr>\n",
       "      <th>3</th>\n",
       "      <td>ES</td>\n",
       "      <td>39.896027</td>\n",
       "      <td>-2.487694</td>\n",
       "      <td>7730.7240</td>\n",
       "      <td>505370.0</td>\n",
       "      <td>spa</td>\n",
       "      <td>92.25</td>\n",
       "    </tr>\n",
       "    <tr>\n",
       "      <th>4</th>\n",
       "      <td>FR</td>\n",
       "      <td>46.232193</td>\n",
       "      <td>2.209667</td>\n",
       "      <td>7682.9450</td>\n",
       "      <td>643801.0</td>\n",
       "      <td>fra</td>\n",
       "      <td>92.06</td>\n",
       "    </tr>\n",
       "    <tr>\n",
       "      <th>5</th>\n",
       "      <td>GB</td>\n",
       "      <td>54.633220</td>\n",
       "      <td>-3.432277</td>\n",
       "      <td>6883.6590</td>\n",
       "      <td>243610.0</td>\n",
       "      <td>eng</td>\n",
       "      <td>0.00</td>\n",
       "    </tr>\n",
       "    <tr>\n",
       "      <th>6</th>\n",
       "      <td>IT</td>\n",
       "      <td>41.873990</td>\n",
       "      <td>12.564167</td>\n",
       "      <td>8636.6310</td>\n",
       "      <td>301340.0</td>\n",
       "      <td>ita</td>\n",
       "      <td>89.40</td>\n",
       "    </tr>\n",
       "    <tr>\n",
       "      <th>7</th>\n",
       "      <td>NL</td>\n",
       "      <td>52.133057</td>\n",
       "      <td>5.295250</td>\n",
       "      <td>7524.3203</td>\n",
       "      <td>41543.0</td>\n",
       "      <td>nld</td>\n",
       "      <td>63.22</td>\n",
       "    </tr>\n",
       "    <tr>\n",
       "      <th>8</th>\n",
       "      <td>PT</td>\n",
       "      <td>39.553444</td>\n",
       "      <td>-7.839319</td>\n",
       "      <td>7355.2534</td>\n",
       "      <td>92090.0</td>\n",
       "      <td>por</td>\n",
       "      <td>95.45</td>\n",
       "    </tr>\n",
       "    <tr>\n",
       "      <th>9</th>\n",
       "      <td>US</td>\n",
       "      <td>36.966427</td>\n",
       "      <td>-95.844030</td>\n",
       "      <td>0.0000</td>\n",
       "      <td>9826675.0</td>\n",
       "      <td>eng</td>\n",
       "      <td>0.00</td>\n",
       "    </tr>\n",
       "  </tbody>\n",
       "</table>\n",
       "</div>"
      ],
      "text/plain": [
       "  country_destination  lat_destination  lng_destination  distance_km  \\\n",
       "0                  AU       -26.853388       133.275160   15297.7440   \n",
       "1                  CA        62.393303       -96.818146    2828.1333   \n",
       "2                  DE        51.165707        10.452764    7879.5680   \n",
       "3                  ES        39.896027        -2.487694    7730.7240   \n",
       "4                  FR        46.232193         2.209667    7682.9450   \n",
       "5                  GB        54.633220        -3.432277    6883.6590   \n",
       "6                  IT        41.873990        12.564167    8636.6310   \n",
       "7                  NL        52.133057         5.295250    7524.3203   \n",
       "8                  PT        39.553444        -7.839319    7355.2534   \n",
       "9                  US        36.966427       -95.844030       0.0000   \n",
       "\n",
       "   destination_km2 destination_language   language_levenshtein_distance  \n",
       "0        7741220.0                   eng                           0.00  \n",
       "1        9984670.0                   eng                           0.00  \n",
       "2         357022.0                   deu                          72.61  \n",
       "3         505370.0                   spa                          92.25  \n",
       "4         643801.0                   fra                          92.06  \n",
       "5         243610.0                   eng                           0.00  \n",
       "6         301340.0                   ita                          89.40  \n",
       "7          41543.0                   nld                          63.22  \n",
       "8          92090.0                   por                          95.45  \n",
       "9        9826675.0                   eng                           0.00  "
      ]
     },
     "execution_count": 70,
     "metadata": {},
     "output_type": "execute_result"
    }
   ],
   "source": [
    "#countries.head()\n",
    "countries"
   ]
  },
  {
   "cell_type": "code",
   "execution_count": 51,
   "metadata": {
    "collapsed": false
   },
   "outputs": [
    {
     "data": {
      "text/plain": [
       "33.0"
      ]
     },
     "execution_count": 51,
     "metadata": {},
     "output_type": "execute_result"
    }
   ],
   "source": [
    "df_all['age'].median()"
   ]
  },
  {
   "cell_type": "markdown",
   "metadata": {},
   "source": [
    "## Distribution of Gender"
   ]
  },
  {
   "cell_type": "code",
   "execution_count": 75,
   "metadata": {
    "collapsed": false
   },
   "outputs": [
    {
     "data": {
      "text/plain": [
       "-unknown-    191376\n",
       "FEMALE       126082\n",
       "MALE         108880\n",
       "OTHER           564\n",
       "Name: gender, dtype: int64"
      ]
     },
     "execution_count": 75,
     "metadata": {},
     "output_type": "execute_result"
    }
   ],
   "source": [
    "df_all['gender'].value_counts()"
   ]
  },
  {
   "cell_type": "code",
   "execution_count": 52,
   "metadata": {
    "collapsed": false
   },
   "outputs": [
    {
     "data": {
      "image/png": "[encoded data removed]",
      "text/plain": [
       "<matplotlib.figure.Figure at 0x11958b4a8>"
      ]
     },
     "metadata": {},
     "output_type": "display_data"
    }
   ],
   "source": [
    "df_all.gender.value_counts(dropna=False).plot(kind='bar', color='#FD5C64', rot=0)\n",
    "plt.xlabel('Gender')\n",
    "sns.despine()"
   ]
  },
  {
   "cell_type": "markdown",
   "metadata": {},
   "source": [
    "## Distribution of Densitination"
   ]
  },
  {
   "cell_type": "code",
   "execution_count": 56,
   "metadata": {
    "collapsed": false
   },
   "outputs": [
    {
     "data": {
      "image/png": "[encoded data removed]",
      "text/plain": [
       "<matplotlib.figure.Figure at 0x119fe0c50>"
      ]
     },
     "metadata": {},
     "output_type": "display_data"
    }
   ],
   "source": [
    "destination_percentage = train_users.country_destination.value_counts() / train_users.shape[0] * 100\n",
    "destination_percentage.plot(kind='bar')\n",
    "# Using seaborn can also be plotted\n",
    "# sns.countplot(x=\"country_destination\", data=users, order=list(users.country_destination.value_counts().keys()))\n",
    "plt.xlabel('Destination Country')\n",
    "plt.ylabel('Percentage')\n",
    "plt.title('Distribution of Destination')\n",
    "sns.despine()"
   ]
  },
  {
   "cell_type": "markdown",
   "metadata": {},
   "source": [
    "## Gender vs Destination"
   ]
  },
  {
   "cell_type": "code",
   "execution_count": 59,
   "metadata": {
    "collapsed": false
   },
   "outputs": [
    {
     "data": {
      "text/plain": [
       "<matplotlib.text.Text at 0x119ee95f8>"
      ]
     },
     "execution_count": 59,
     "metadata": {},
     "output_type": "execute_result"
    },
    {
     "data": {
      "image/png": "[encoded data removed]",
      "text/plain": [
       "<matplotlib.figure.Figure at 0x11a0047b8>"
      ]
     },
     "metadata": {},
     "output_type": "display_data"
    }
   ],
   "source": [
    "df_gender_dest = pd.crosstab(index = train_users[\"gender\"], columns = train_users[\"country_destination\"],margins=True)\n",
    "#train_df.index= [\"country_destination\"]\n",
    "df_gender_dest_pct = df_gender_dest.div(df_gender_dest[\"All\"], axis=0)\n",
    "#http://hamelg.blogspot.com/2015/11/python-for-data-analysis-part-19_17.html\n",
    "df_gender_dest_pct.drop(df_gender_dest_pct.columns[12], axis=1).T.plot(kind='bar')\n",
    "plt.title('Gender vs Destination')"
   ]
  },
  {
   "cell_type": "code",
   "execution_count": 79,
   "metadata": {
    "collapsed": false
   },
   "outputs": [
    {
     "data": {
      "text/html": [
       "<div>\n",
       "<table border=\"1\" class=\"dataframe\">\n",
       "  <thead>\n",
       "    <tr style=\"text-align: right;\">\n",
       "      <th>country_destination</th>\n",
       "      <th>AU</th>\n",
       "      <th>CA</th>\n",
       "      <th>DE</th>\n",
       "      <th>ES</th>\n",
       "      <th>FR</th>\n",
       "      <th>GB</th>\n",
       "      <th>IT</th>\n",
       "      <th>NDF</th>\n",
       "      <th>NL</th>\n",
       "      <th>PT</th>\n",
       "      <th>US</th>\n",
       "      <th>other</th>\n",
       "      <th>All</th>\n",
       "    </tr>\n",
       "    <tr>\n",
       "      <th>gender</th>\n",
       "      <th></th>\n",
       "      <th></th>\n",
       "      <th></th>\n",
       "      <th></th>\n",
       "      <th></th>\n",
       "      <th></th>\n",
       "      <th></th>\n",
       "      <th></th>\n",
       "      <th></th>\n",
       "      <th></th>\n",
       "      <th></th>\n",
       "      <th></th>\n",
       "      <th></th>\n",
       "    </tr>\n",
       "  </thead>\n",
       "  <tbody>\n",
       "    <tr>\n",
       "      <th>-unknown-</th>\n",
       "      <td>0.001494</td>\n",
       "      <td>0.005131</td>\n",
       "      <td>0.002968</td>\n",
       "      <td>0.007472</td>\n",
       "      <td>0.017902</td>\n",
       "      <td>0.007922</td>\n",
       "      <td>0.010869</td>\n",
       "      <td>0.696744</td>\n",
       "      <td>0.002372</td>\n",
       "      <td>0.000721</td>\n",
       "      <td>0.210152</td>\n",
       "      <td>0.036253</td>\n",
       "      <td>1.0</td>\n",
       "    </tr>\n",
       "    <tr>\n",
       "      <th>FEMALE</th>\n",
       "      <td>0.003284</td>\n",
       "      <td>0.007218</td>\n",
       "      <td>0.005679</td>\n",
       "      <td>0.013531</td>\n",
       "      <td>0.031123</td>\n",
       "      <td>0.013975</td>\n",
       "      <td>0.017306</td>\n",
       "      <td>0.492505</td>\n",
       "      <td>0.004029</td>\n",
       "      <td>0.001237</td>\n",
       "      <td>0.359988</td>\n",
       "      <td>0.050126</td>\n",
       "      <td>1.0</td>\n",
       "    </tr>\n",
       "    <tr>\n",
       "      <th>MALE</th>\n",
       "      <td>0.003453</td>\n",
       "      <td>0.008762</td>\n",
       "      <td>0.007641</td>\n",
       "      <td>0.012436</td>\n",
       "      <td>0.024522</td>\n",
       "      <td>0.012528</td>\n",
       "      <td>0.012840</td>\n",
       "      <td>0.490797</td>\n",
       "      <td>0.005107</td>\n",
       "      <td>0.001267</td>\n",
       "      <td>0.357403</td>\n",
       "      <td>0.063244</td>\n",
       "      <td>1.0</td>\n",
       "    </tr>\n",
       "    <tr>\n",
       "      <th>OTHER</th>\n",
       "      <td>0.003546</td>\n",
       "      <td>0.017730</td>\n",
       "      <td>0.010638</td>\n",
       "      <td>0.014184</td>\n",
       "      <td>0.046099</td>\n",
       "      <td>0.010638</td>\n",
       "      <td>0.017730</td>\n",
       "      <td>0.375887</td>\n",
       "      <td>0.010638</td>\n",
       "      <td>0.003546</td>\n",
       "      <td>0.411348</td>\n",
       "      <td>0.078014</td>\n",
       "      <td>1.0</td>\n",
       "    </tr>\n",
       "    <tr>\n",
       "      <th>All</th>\n",
       "      <td>0.002525</td>\n",
       "      <td>0.006690</td>\n",
       "      <td>0.004971</td>\n",
       "      <td>0.010536</td>\n",
       "      <td>0.023532</td>\n",
       "      <td>0.010888</td>\n",
       "      <td>0.013282</td>\n",
       "      <td>0.583473</td>\n",
       "      <td>0.003570</td>\n",
       "      <td>0.001017</td>\n",
       "      <td>0.292226</td>\n",
       "      <td>0.047290</td>\n",
       "      <td>1.0</td>\n",
       "    </tr>\n",
       "  </tbody>\n",
       "</table>\n",
       "</div>"
      ],
      "text/plain": [
       "country_destination        AU        CA        DE        ES        FR  \\\n",
       "gender                                                                  \n",
       "-unknown-            0.001494  0.005131  0.002968  0.007472  0.017902   \n",
       "FEMALE               0.003284  0.007218  0.005679  0.013531  0.031123   \n",
       "MALE                 0.003453  0.008762  0.007641  0.012436  0.024522   \n",
       "OTHER                0.003546  0.017730  0.010638  0.014184  0.046099   \n",
       "All                  0.002525  0.006690  0.004971  0.010536  0.023532   \n",
       "\n",
       "country_destination        GB        IT       NDF        NL        PT  \\\n",
       "gender                                                                  \n",
       "-unknown-            0.007922  0.010869  0.696744  0.002372  0.000721   \n",
       "FEMALE               0.013975  0.017306  0.492505  0.004029  0.001237   \n",
       "MALE                 0.012528  0.012840  0.490797  0.005107  0.001267   \n",
       "OTHER                0.010638  0.017730  0.375887  0.010638  0.003546   \n",
       "All                  0.010888  0.013282  0.583473  0.003570  0.001017   \n",
       "\n",
       "country_destination        US     other  All  \n",
       "gender                                        \n",
       "-unknown-            0.210152  0.036253  1.0  \n",
       "FEMALE               0.359988  0.050126  1.0  \n",
       "MALE                 0.357403  0.063244  1.0  \n",
       "OTHER                0.411348  0.078014  1.0  \n",
       "All                  0.292226  0.047290  1.0  "
      ]
     },
     "execution_count": 79,
     "metadata": {},
     "output_type": "execute_result"
    }
   ],
   "source": [
    "df_gender_dest_pct"
   ]
  },
  {
   "cell_type": "markdown",
   "metadata": {},
   "source": [
    "People whose gender is \"other\" are more likely to make a book than others;\n",
    "People whose gender is \"unknown\" are less likely to make a book than others"
   ]
  },
  {
   "cell_type": "markdown",
   "metadata": {},
   "source": [
    "## Distribution of Age"
   ]
  },
  {
   "cell_type": "code",
   "execution_count": 60,
   "metadata": {
    "collapsed": false
   },
   "outputs": [
    {
     "name": "stderr",
     "output_type": "stream",
     "text": [
      "//anaconda/lib/python3.5/site-packages/statsmodels/nonparametric/kdetools.py:20: VisibleDeprecationWarning: using a non-integer number instead of an integer will result in an error in the future\n",
      "  y = X[:m/2+1] + np.r_[0,X[m/2+1:],0]*1j\n"
     ]
    },
    {
     "data": {
      "image/png": "[encoded data removed]",
      "text/plain": [
       "<matplotlib.figure.Figure at 0x119f040f0>"
      ]
     },
     "metadata": {},
     "output_type": "display_data"
    }
   ],
   "source": [
    "#train_users['age'] = pd.to_numeric(train_users['age'], errors='coerce')\n",
    "sns.distplot(train_users.age.dropna(), color='#FD5C64')\n",
    "plt.xlabel('Age')\n",
    "sns.despine()"
   ]
  },
  {
   "cell_type": "code",
   "execution_count": 61,
   "metadata": {
    "collapsed": false
   },
   "outputs": [
    {
     "data": {
      "text/plain": [
       "count    125461.000000\n",
       "mean         49.668335\n",
       "std         155.666612\n",
       "min           1.000000\n",
       "25%          28.000000\n",
       "50%          34.000000\n",
       "75%          43.000000\n",
       "max        2014.000000\n",
       "Name: age, dtype: float64"
      ]
     },
     "execution_count": 61,
     "metadata": {},
     "output_type": "execute_result"
    }
   ],
   "source": [
    "train_users.age.dropna().describe()"
   ]
  },
  {
   "cell_type": "code",
   "execution_count": 63,
   "metadata": {
    "collapsed": false
   },
   "outputs": [
    {
     "data": {
      "text/plain": [
       "25.0"
      ]
     },
     "execution_count": 63,
     "metadata": {},
     "output_type": "execute_result"
    }
   ],
   "source": [
    "df_all.age = df_all.age.fillna(0)\n",
    "df_all.age.median()"
   ]
  },
  {
   "cell_type": "code",
   "execution_count": 64,
   "metadata": {
    "collapsed": false
   },
   "outputs": [
    {
     "name": "stderr",
     "output_type": "stream",
     "text": [
      "//anaconda/lib/python3.5/site-packages/ipykernel/__main__.py:1: SettingWithCopyWarning: \n",
      "A value is trying to be set on a copy of a slice from a DataFrame\n",
      "\n",
      "See the caveats in the documentation: http://pandas.pydata.org/pandas-docs/stable/indexing.html#indexing-view-versus-copy\n",
      "  if __name__ == '__main__':\n"
     ]
    }
   ],
   "source": [
    "df_all.age[df_all.age > 120] = 34"
   ]
  },
  {
   "cell_type": "markdown",
   "metadata": {},
   "source": [
    "## First Browser"
   ]
  },
  {
   "cell_type": "code",
   "execution_count": 65,
   "metadata": {
    "collapsed": false,
    "scrolled": true
   },
   "outputs": [
    {
     "data": {
      "text/plain": [
       "Chrome                  78671\n",
       "Safari                  53302\n",
       "-unknown-               44394\n",
       "Firefox                 38665\n",
       "Mobile Safari           29636\n",
       "IE                      24744\n",
       "Chrome Mobile            3186\n",
       "Android Browser          1577\n",
       "AOL Explorer              254\n",
       "Opera                     228\n",
       "Silk                      172\n",
       "IE Mobile                 118\n",
       "BlackBerry Browser         89\n",
       "Chromium                   83\n",
       "Mobile Firefox             64\n",
       "Maxthon                    60\n",
       "Apple Mail                 45\n",
       "Sogou Explorer             43\n",
       "SiteKiosk                  27\n",
       "Iron                       24\n",
       "RockMelt                   24\n",
       "IceWeasel                  14\n",
       "Yandex.Browser             14\n",
       "Pale Moon                  13\n",
       "CometBird                  12\n",
       "SeaMonkey                  12\n",
       "Camino                      9\n",
       "Opera Mini                  8\n",
       "TenFourFox                  8\n",
       "wOSBrowser                  7\n",
       "CoolNovo                    6\n",
       "Avant Browser               4\n",
       "Opera Mobile                4\n",
       "Mozilla                     3\n",
       "Crazy Browser               2\n",
       "OmniWeb                     2\n",
       "SlimBrowser                 2\n",
       "TheWorld Browser            2\n",
       "Comodo Dragon               2\n",
       "Flock                       2\n",
       "Googlebot                   1\n",
       "Kindle Browser              1\n",
       "IceDragon                   1\n",
       "UC Browser                  1\n",
       "NetNewsWire                 1\n",
       "Epic                        1\n",
       "Nintendo Browser            1\n",
       "Conkeror                    1\n",
       "Outlook 2007                1\n",
       "Stainless                   1\n",
       "Google Earth                1\n",
       "Arora                       1\n",
       "IBrowse                     1\n",
       "PS Vita browser             1\n",
       "Palm Pre web browser        1\n",
       "Name: first_browser, dtype: int64"
      ]
     },
     "execution_count": 65,
     "metadata": {},
     "output_type": "execute_result"
    }
   ],
   "source": [
    "df_all.first_browser.value_counts()"
   ]
  },
  {
   "cell_type": "code",
   "execution_count": 67,
   "metadata": {
    "collapsed": false
   },
   "outputs": [
    {
     "name": "stderr",
     "output_type": "stream",
     "text": [
      "//anaconda/lib/python3.5/site-packages/ipykernel/__main__.py:3: SettingWithCopyWarning: \n",
      "A value is trying to be set on a copy of a slice from a DataFrame\n",
      "\n",
      "See the caveats in the documentation: http://pandas.pydata.org/pandas-docs/stable/indexing.html#indexing-view-versus-copy\n",
      "  app.launch_new_instance()\n",
      "//anaconda/lib/python3.5/site-packages/ipykernel/__main__.py:5: SettingWithCopyWarning: \n",
      "A value is trying to be set on a copy of a slice from a DataFrame\n",
      "\n",
      "See the caveats in the documentation: http://pandas.pydata.org/pandas-docs/stable/indexing.html#indexing-view-versus-copy\n"
     ]
    }
   ],
   "source": [
    "# first_browser\n",
    "df_all.first_browser[ - df_all.first_browser.isin(['Chrome', 'Safari', 'Firefox', '-unknown-', \n",
    "                                                   'IE', 'Mobile Safari', 'Chrome Mobile', 'Android Browser'])] = 'Other'\n",
    "train_users.first_browser[ - train_users.first_browser.isin(['Chrome', 'Safari', 'Firefox', '-unknown-', \n",
    "                                                   'IE', 'Mobile Safari', 'Chrome Mobile', 'Android Browser'])] = 'Other'"
   ]
  },
  {
   "cell_type": "code",
   "execution_count": 69,
   "metadata": {
    "collapsed": false
   },
   "outputs": [
    {
     "data": {
      "text/plain": [
       "<matplotlib.text.Text at 0x1192ca940>"
      ]
     },
     "execution_count": 69,
     "metadata": {},
     "output_type": "execute_result"
    },
    {
     "data": {
      "image/png": "[encoded data removed]",
      "text/plain": [
       "<matplotlib.figure.Figure at 0x119f34d30>"
      ]
     },
     "metadata": {},
     "output_type": "display_data"
    }
   ],
   "source": [
    "df_browser_dest = pd.crosstab(index = train_users[\"first_browser\"], columns = train_users[\"country_destination\"], margins=True)\n",
    "df_browser_dest_pct = df_browser_dest.div(df_browser_dest[\"All\"], axis=0)\n",
    "df_browser_dest_pct.drop(df_browser_dest_pct.columns[12], axis=1).T.plot(kind='bar')\n",
    "plt.title('First Browser vs Destination')"
   ]
  },
  {
   "cell_type": "code",
   "execution_count": 71,
   "metadata": {
    "collapsed": true
   },
   "outputs": [],
   "source": [
    "## first_device_type"
   ]
  },
  {
   "cell_type": "code",
   "execution_count": 72,
   "metadata": {
    "collapsed": false
   },
   "outputs": [
    {
     "data": {
      "text/plain": [
       "Mac Desktop           106328\n",
       "Windows Desktop        86948\n",
       "iPhone                 39814\n",
       "iPad                   18036\n",
       "Other/Unknown          11167\n",
       "Android Phone           9458\n",
       "Android Tablet          2098\n",
       "Desktop (Other)         1507\n",
       "SmartPhone (Other)       191\n",
       "Name: first_device_type, dtype: int64"
      ]
     },
     "execution_count": 72,
     "metadata": {},
     "output_type": "execute_result"
    }
   ],
   "source": [
    "df_all.first_device_type.value_counts()"
   ]
  },
  {
   "cell_type": "code",
   "execution_count": 73,
   "metadata": {
    "collapsed": false
   },
   "outputs": [
    {
     "name": "stderr",
     "output_type": "stream",
     "text": [
      "//anaconda/lib/python3.5/site-packages/ipykernel/__main__.py:2: SettingWithCopyWarning: \n",
      "A value is trying to be set on a copy of a slice from a DataFrame\n",
      "\n",
      "See the caveats in the documentation: http://pandas.pydata.org/pandas-docs/stable/indexing.html#indexing-view-versus-copy\n",
      "  from ipykernel import kernelapp as app\n",
      "//anaconda/lib/python3.5/site-packages/ipykernel/__main__.py:3: SettingWithCopyWarning: \n",
      "A value is trying to be set on a copy of a slice from a DataFrame\n",
      "\n",
      "See the caveats in the documentation: http://pandas.pydata.org/pandas-docs/stable/indexing.html#indexing-view-versus-copy\n",
      "  app.launch_new_instance()\n",
      "//anaconda/lib/python3.5/site-packages/ipykernel/__main__.py:4: SettingWithCopyWarning: \n",
      "A value is trying to be set on a copy of a slice from a DataFrame\n",
      "\n",
      "See the caveats in the documentation: http://pandas.pydata.org/pandas-docs/stable/indexing.html#indexing-view-versus-copy\n",
      "//anaconda/lib/python3.5/site-packages/ipykernel/__main__.py:8: SettingWithCopyWarning: \n",
      "A value is trying to be set on a copy of a slice from a DataFrame\n",
      "\n",
      "See the caveats in the documentation: http://pandas.pydata.org/pandas-docs/stable/indexing.html#indexing-view-versus-copy\n",
      "//anaconda/lib/python3.5/site-packages/ipykernel/__main__.py:9: SettingWithCopyWarning: \n",
      "A value is trying to be set on a copy of a slice from a DataFrame\n",
      "\n",
      "See the caveats in the documentation: http://pandas.pydata.org/pandas-docs/stable/indexing.html#indexing-view-versus-copy\n",
      "//anaconda/lib/python3.5/site-packages/ipykernel/__main__.py:10: SettingWithCopyWarning: \n",
      "A value is trying to be set on a copy of a slice from a DataFrame\n",
      "\n",
      "See the caveats in the documentation: http://pandas.pydata.org/pandas-docs/stable/indexing.html#indexing-view-versus-copy\n"
     ]
    },
    {
     "data": {
      "text/plain": [
       "Desktop          163515\n",
       "Mobile            23638\n",
       "Tablet            15631\n",
       "Other/Unknown     10667\n",
       "Name: first_device_group, dtype: int64"
      ]
     },
     "execution_count": 73,
     "metadata": {},
     "output_type": "execute_result"
    }
   ],
   "source": [
    "df_all['first_device_group'] = df_all.first_device_type\n",
    "df_all.first_device_group[df_all.first_device_group.isin(['Mac Desktop', 'Windows Desktop', 'Desktop (Other)'])] = 'Desktop'\n",
    "df_all.first_device_group[df_all.first_device_group.isin(['iPhone', 'Android Phone', 'SmartPhone (Other)'])] = 'Mobile'\n",
    "df_all.first_device_group[df_all.first_device_group.isin(['iPad', 'Android Tablet'])] = 'Tablet'\n",
    "df_all.first_device_group.value_counts()\n",
    "\n",
    "train_users['first_device_group'] = train_users.first_device_type\n",
    "train_users.first_device_group[train_users.first_device_group.isin(['Mac Desktop', 'Windows Desktop', 'Desktop (Other)'])] = 'Desktop'\n",
    "train_users.first_device_group[train_users.first_device_group.isin(['iPhone', 'Android Phone', 'SmartPhone (Other)'])] = 'Mobile'\n",
    "train_users.first_device_group[train_users.first_device_group.isin(['iPad', 'Android Tablet'])] = 'Tablet'\n",
    "train_users.first_device_group.value_counts()"
   ]
  },
  {
   "cell_type": "code",
   "execution_count": 75,
   "metadata": {
    "collapsed": false
   },
   "outputs": [
    {
     "data": {
      "text/plain": [
       "<matplotlib.text.Text at 0x11ca21d30>"
      ]
     },
     "execution_count": 75,
     "metadata": {},
     "output_type": "execute_result"
    },
    {
     "data": {
      "image/png": "[encoded data removed]",
      "text/plain": [
       "<matplotlib.figure.Figure at 0x11ab744a8>"
      ]
     },
     "metadata": {},
     "output_type": "display_data"
    }
   ],
   "source": [
    "df_device_dest = pd.crosstab(index = train_users[\"first_device_group\"], columns = train_users[\"country_destination\"], margins=True)\n",
    "df_device_dest_pct = df_device_dest.div(df_device_dest[\"All\"], axis=0)\n",
    "df_device_dest_pct.drop(df_device_dest_pct.columns[12], axis=1).T.plot(kind='bar')\n",
    "plt.title('First Device Type vs Destination')"
   ]
  },
  {
   "cell_type": "markdown",
   "metadata": {},
   "source": [
    "People who using desktop are more likely to book a flight while people using other/unknown device are less likely to book.\n",
    "\n",
    "Booking rank: Desktop, Tablet, Movile, Other/Unknown"
   ]
  },
  {
   "cell_type": "markdown",
   "metadata": {},
   "source": [
    "## First Affiliate Tracked"
   ]
  },
  {
   "cell_type": "code",
   "execution_count": 76,
   "metadata": {
    "collapsed": false
   },
   "outputs": [
    {
     "data": {
      "text/plain": [
       "untracked        143181\n",
       "linked            62064\n",
       "omg               54859\n",
       "tracked-other      6655\n",
       "product            2353\n",
       "marketing           281\n",
       "local ops            69\n",
       "Name: first_affiliate_tracked, dtype: int64"
      ]
     },
     "execution_count": 76,
     "metadata": {},
     "output_type": "execute_result"
    }
   ],
   "source": [
    "df_all.first_affiliate_tracked.value_counts()"
   ]
  },
  {
   "cell_type": "code",
   "execution_count": 79,
   "metadata": {
    "collapsed": false
   },
   "outputs": [
    {
     "name": "stderr",
     "output_type": "stream",
     "text": [
      "//anaconda/lib/python3.5/site-packages/ipykernel/__main__.py:2: SettingWithCopyWarning: \n",
      "A value is trying to be set on a copy of a slice from a DataFrame\n",
      "\n",
      "See the caveats in the documentation: http://pandas.pydata.org/pandas-docs/stable/indexing.html#indexing-view-versus-copy\n",
      "  from ipykernel import kernelapp as app\n",
      "//anaconda/lib/python3.5/site-packages/ipykernel/__main__.py:9: SettingWithCopyWarning: \n",
      "A value is trying to be set on a copy of a slice from a DataFrame\n",
      "\n",
      "See the caveats in the documentation: http://pandas.pydata.org/pandas-docs/stable/indexing.html#indexing-view-versus-copy\n"
     ]
    },
    {
     "data": {
      "text/plain": [
       "<matplotlib.text.Text at 0x11fb3b3c8>"
      ]
     },
     "execution_count": 79,
     "metadata": {},
     "output_type": "execute_result"
    },
    {
     "data": {
      "image/png": "[encoded data removed]",
      "text/plain": [
       "<matplotlib.figure.Figure at 0x11f221fd0>"
      ]
     },
     "metadata": {},
     "output_type": "display_data"
    }
   ],
   "source": [
    "# all\n",
    "df_all.first_affiliate_tracked[df_all.first_affiliate_tracked.isin(['local ops', 'marketing', 'product'])] = 'Other'\n",
    "\n",
    "#df_affiliate_dest = pd.crosstab(index = df_all[\"first_affiliate_tracked\"], columns = df_all[\"country_destination\"], margins=True)\n",
    "#df_affiliate_dest_pct = df_affiliate_dest.div(df_affiliate_dest[\"All\"], axis=0)\n",
    "#df_affiliate_dest_pct.drop(df_affiliate_dest_pct.columns[12], axis=1).T.plot(kind='bar')\n",
    "\n",
    "# train\n",
    "train_users.first_affiliate_tracked[train_users.first_affiliate_tracked.isin(['local ops', 'marketing', 'product'])] = 'Other'\n",
    "\n",
    "df_affiliate_dest = pd.crosstab(index = train_users[\"first_affiliate_tracked\"], columns = train_users[\"country_destination\"], margins=True)\n",
    "df_affiliate_dest_pct = df_affiliate_dest.div(df_affiliate_dest[\"All\"], axis=0)\n",
    "df_affiliate_dest_pct.drop(df_affiliate_dest_pct.columns[12], axis=1).T.plot(kind='bar')\n",
    "plt.title('First Affiliate Tracked vs Destination')"
   ]
  },
  {
   "cell_type": "code",
   "execution_count": 80,
   "metadata": {
    "collapsed": false
   },
   "outputs": [
    {
     "data": {
      "text/plain": [
       "direct                 181270\n",
       "google                  65956\n",
       "other                   13036\n",
       "facebook                 3996\n",
       "bing                     3719\n",
       "craigslist               3475\n",
       "padmapper                 836\n",
       "vast                      830\n",
       "yahoo                     653\n",
       "facebook-open-graph       566\n",
       "gsp                       455\n",
       "meetup                    358\n",
       "email-marketing           270\n",
       "naver                      66\n",
       "baidu                      32\n",
       "yandex                     18\n",
       "wayn                        8\n",
       "daum                        3\n",
       "Name: affiliate_provider, dtype: int64"
      ]
     },
     "execution_count": 80,
     "metadata": {},
     "output_type": "execute_result"
    }
   ],
   "source": [
    "df_all.affiliate_provider.value_counts()"
   ]
  },
  {
   "cell_type": "code",
   "execution_count": 81,
   "metadata": {
    "collapsed": false
   },
   "outputs": [
    {
     "name": "stderr",
     "output_type": "stream",
     "text": [
      "//anaconda/lib/python3.5/site-packages/ipykernel/__main__.py:4: SettingWithCopyWarning: \n",
      "A value is trying to be set on a copy of a slice from a DataFrame\n",
      "\n",
      "See the caveats in the documentation: http://pandas.pydata.org/pandas-docs/stable/indexing.html#indexing-view-versus-copy\n",
      "//anaconda/lib/python3.5/site-packages/ipykernel/__main__.py:8: SettingWithCopyWarning: \n",
      "A value is trying to be set on a copy of a slice from a DataFrame\n",
      "\n",
      "See the caveats in the documentation: http://pandas.pydata.org/pandas-docs/stable/indexing.html#indexing-view-versus-copy\n"
     ]
    },
    {
     "data": {
      "text/plain": [
       "<matplotlib.text.Text at 0x11c833be0>"
      ]
     },
     "execution_count": 81,
     "metadata": {},
     "output_type": "execute_result"
    },
    {
     "data": {
      "image/png": "[encoded data removed]",
      "text/plain": [
       "<matplotlib.figure.Figure at 0x11f37eeb8>"
      ]
     },
     "metadata": {},
     "output_type": "display_data"
    }
   ],
   "source": [
    "# all\n",
    "df_all.affiliate_provider[ - df_all.affiliate_provider.isin(['direct', 'google', 'other', 'craigslist', \n",
    "                                             'bing', 'facebook', 'padmapper', 'facebook-open-graph',\n",
    "                                             'yahoo','gsp','meetup'])] = 'other'\n",
    "# train\n",
    "train_users.affiliate_provider[ - train_users.affiliate_provider.isin(['direct', 'google', 'other', 'craigslist', \n",
    "                                             'bing', 'facebook', 'padmapper', 'facebook-open-graph',\n",
    "                                             'yahoo','gsp','meetup'])] = 'other'\n",
    "df_provider_dest = pd.crosstab(index = train_users[\"affiliate_provider\"], columns = train_users[\"country_destination\"], margins=True)\n",
    "df_provider_dest_pct = df_provider_dest.div(df_provider_dest[\"All\"], axis=0)\n",
    "df_provider_dest_pct.drop(df_provider_dest_pct.columns[12], axis=1).T.plot(kind='bar')\n",
    "plt.title('Affiliate Provider vs Destination')"
   ]
  },
  {
   "cell_type": "markdown",
   "metadata": {},
   "source": [
    "## Language"
   ]
  },
  {
   "cell_type": "code",
   "execution_count": 82,
   "metadata": {
    "collapsed": false
   },
   "outputs": [
    {
     "data": {
      "text/plain": [
       "en           265538\n",
       "zh             2634\n",
       "fr             1508\n",
       "es             1174\n",
       "ko             1116\n",
       "de              977\n",
       "it              633\n",
       "ru              508\n",
       "ja              345\n",
       "pt              322\n",
       "sv              176\n",
       "nl              134\n",
       "tr               92\n",
       "pl               75\n",
       "da               75\n",
       "no               51\n",
       "cs               49\n",
       "el               30\n",
       "th               28\n",
       "hu               25\n",
       "id               23\n",
       "fi               20\n",
       "ca                6\n",
       "is                5\n",
       "hr                2\n",
       "-unknown-         1\n",
       "Name: language, dtype: int64"
      ]
     },
     "execution_count": 82,
     "metadata": {},
     "output_type": "execute_result"
    }
   ],
   "source": [
    "df_all.language.value_counts()"
   ]
  },
  {
   "cell_type": "markdown",
   "metadata": {},
   "source": [
    "en    \n",
    "zh: Chinese\n",
    "fr: French\n",
    "es: Spanish\n",
    "ko      1494\n",
    "de      1464\n",
    "it: Italy\n",
    "ru: Russian\n",
    "pt       480\n",
    "ja       450\n",
    "sv       244\n",
    "nl       194\n",
    "tr       128\n",
    "da       116\n",
    "pl       108\n",
    "cs        64\n",
    "no        60\n",
    "el        48\n",
    "th        48\n",
    "id        44\n",
    "hu        36\n",
    "fi        28\n",
    "ca        10\n",
    "is        10\n",
    "hr         4\n"
   ]
  },
  {
   "cell_type": "code",
   "execution_count": 83,
   "metadata": {
    "collapsed": false
   },
   "outputs": [
    {
     "name": "stderr",
     "output_type": "stream",
     "text": [
      "//anaconda/lib/python3.5/site-packages/ipykernel/__main__.py:2: SettingWithCopyWarning: \n",
      "A value is trying to be set on a copy of a slice from a DataFrame\n",
      "\n",
      "See the caveats in the documentation: http://pandas.pydata.org/pandas-docs/stable/indexing.html#indexing-view-versus-copy\n",
      "  from ipykernel import kernelapp as app\n",
      "//anaconda/lib/python3.5/site-packages/ipykernel/__main__.py:4: SettingWithCopyWarning: \n",
      "A value is trying to be set on a copy of a slice from a DataFrame\n",
      "\n",
      "See the caveats in the documentation: http://pandas.pydata.org/pandas-docs/stable/indexing.html#indexing-view-versus-copy\n"
     ]
    },
    {
     "data": {
      "text/plain": [
       "<matplotlib.text.Text at 0x11b5e2c50>"
      ]
     },
     "execution_count": 83,
     "metadata": {},
     "output_type": "execute_result"
    },
    {
     "data": {
      "image/png": "[encoded data removed]",
      "text/plain": [
       "<matplotlib.figure.Figure at 0x11c856ef0>"
      ]
     },
     "metadata": {},
     "output_type": "display_data"
    }
   ],
   "source": [
    "# all\n",
    "df_all.language[- df_all.language.isin(['en', 'zh', 'fr','es','ko','de','it','ru','pt','ja'])] = 'Other'\n",
    "# train\n",
    "train_users.language[- train_users.language.isin(['en', 'zh', 'fr','es','ko','de','it','ru','pt','ja'])] = 'Other'\n",
    "df_language_dest = pd.crosstab(index = train_users[\"language\"], columns = train_users[\"country_destination\"], margins=True)\n",
    "df_language_dest_pct = df_language_dest.div(df_language_dest[\"All\"], axis=0)\n",
    "df_language_dest_pct.drop(df_language_dest_pct.columns[12], axis=1).T.plot(kind='bar')\n",
    "plt.title('Language vs Destination')"
   ]
  },
  {
   "cell_type": "markdown",
   "metadata": {},
   "source": [
    "## Sign up"
   ]
  },
  {
   "cell_type": "code",
   "execution_count": 84,
   "metadata": {
    "collapsed": false
   },
   "outputs": [
    {
     "data": {
      "text/plain": [
       "0     206092\n",
       "25     29834\n",
       "12     11244\n",
       "3       8822\n",
       "2       6881\n",
       "23      6408\n",
       "24      4328\n",
       "1       1047\n",
       "8        315\n",
       "6        301\n",
       "21       197\n",
       "5         36\n",
       "20        14\n",
       "16        11\n",
       "15        10\n",
       "14         4\n",
       "10         2\n",
       "4          1\n",
       "Name: signup_flow, dtype: int64"
      ]
     },
     "execution_count": 84,
     "metadata": {},
     "output_type": "execute_result"
    }
   ],
   "source": [
    "df_all.signup_flow.value_counts()"
   ]
  },
  {
   "cell_type": "code",
   "execution_count": 85,
   "metadata": {
    "collapsed": false
   },
   "outputs": [
    {
     "name": "stderr",
     "output_type": "stream",
     "text": [
      "//anaconda/lib/python3.5/site-packages/ipykernel/__main__.py:1: SettingWithCopyWarning: \n",
      "A value is trying to be set on a copy of a slice from a DataFrame\n",
      "\n",
      "See the caveats in the documentation: http://pandas.pydata.org/pandas-docs/stable/indexing.html#indexing-view-versus-copy\n",
      "  if __name__ == '__main__':\n",
      "//anaconda/lib/python3.5/site-packages/ipykernel/__main__.py:2: SettingWithCopyWarning: \n",
      "A value is trying to be set on a copy of a slice from a DataFrame\n",
      "\n",
      "See the caveats in the documentation: http://pandas.pydata.org/pandas-docs/stable/indexing.html#indexing-view-versus-copy\n",
      "  from ipykernel import kernelapp as app\n"
     ]
    },
    {
     "data": {
      "text/plain": [
       "<matplotlib.text.Text at 0x1206f22e8>"
      ]
     },
     "execution_count": 85,
     "metadata": {},
     "output_type": "execute_result"
    },
    {
     "data": {
      "image/png": "[encoded data removed]",
      "text/plain": [
       "<matplotlib.figure.Figure at 0x11f124fd0>"
      ]
     },
     "metadata": {},
     "output_type": "display_data"
    }
   ],
   "source": [
    "df_all.signup_flow[df_all.signup_flow.isin([4, 10, 14, 15, 16, 20, 5, 21, 6, 8])] = 'Other'\n",
    "train_users.signup_flow[train_users.signup_flow.isin([4, 10, 14, 15, 16, 20, 5, 21, 6, 8])] = 'Other'\n",
    "\n",
    "\n",
    "df_signup_flow_dest = pd.crosstab(index = train_users[\"signup_flow\"], columns = train_users[\"country_destination\"], margins=True)\n",
    "df_signup_flow_dest_pct = df_signup_flow_dest.div(df_signup_flow_dest[\"All\"], axis=0)\n",
    "df_signup_flow_dest_pct.drop(df_signup_flow_dest_pct.columns[12], axis=1).T.plot(kind='bar')\n",
    "plt.title('Sign up vs Destination')"
   ]
  },
  {
   "cell_type": "code",
   "execution_count": 126,
   "metadata": {
    "collapsed": false
   },
   "outputs": [
    {
     "data": {
      "text/html": [
       "<div>\n",
       "<table border=\"1\" class=\"dataframe\">\n",
       "  <thead>\n",
       "    <tr style=\"text-align: right;\">\n",
       "      <th></th>\n",
       "      <th></th>\n",
       "      <th>id</th>\n",
       "      <th>date_account_created</th>\n",
       "      <th>timestamp_first_active</th>\n",
       "      <th>date_first_booking</th>\n",
       "      <th>gender</th>\n",
       "      <th>age</th>\n",
       "      <th>signup_method</th>\n",
       "      <th>signup_flow</th>\n",
       "      <th>language</th>\n",
       "      <th>affiliate_channel</th>\n",
       "      <th>affiliate_provider</th>\n",
       "      <th>first_affiliate_tracked</th>\n",
       "      <th>signup_app</th>\n",
       "      <th>first_device_type</th>\n",
       "      <th>first_browser</th>\n",
       "      <th>country_destination</th>\n",
       "    </tr>\n",
       "  </thead>\n",
       "  <tbody>\n",
       "    <tr>\n",
       "      <th rowspan=\"5\" valign=\"top\">train</th>\n",
       "      <th>0</th>\n",
       "      <td>gxn3p5htnn</td>\n",
       "      <td>2010-06-28</td>\n",
       "      <td>20090319043255</td>\n",
       "      <td>NaN</td>\n",
       "      <td>-unknown-</td>\n",
       "      <td>NaN</td>\n",
       "      <td>facebook</td>\n",
       "      <td>0</td>\n",
       "      <td>en</td>\n",
       "      <td>direct</td>\n",
       "      <td>direct</td>\n",
       "      <td>untracked</td>\n",
       "      <td>Web</td>\n",
       "      <td>Mac Desktop</td>\n",
       "      <td>Chrome</td>\n",
       "      <td>NDF</td>\n",
       "    </tr>\n",
       "    <tr>\n",
       "      <th>1</th>\n",
       "      <td>820tgsjxq7</td>\n",
       "      <td>2011-05-25</td>\n",
       "      <td>20090523174809</td>\n",
       "      <td>NaN</td>\n",
       "      <td>MALE</td>\n",
       "      <td>38.0</td>\n",
       "      <td>facebook</td>\n",
       "      <td>0</td>\n",
       "      <td>en</td>\n",
       "      <td>seo</td>\n",
       "      <td>google</td>\n",
       "      <td>untracked</td>\n",
       "      <td>Web</td>\n",
       "      <td>Mac Desktop</td>\n",
       "      <td>Chrome</td>\n",
       "      <td>NDF</td>\n",
       "    </tr>\n",
       "    <tr>\n",
       "      <th>2</th>\n",
       "      <td>4ft3gnwmtx</td>\n",
       "      <td>2010-09-28</td>\n",
       "      <td>20090609231247</td>\n",
       "      <td>2010-08-02</td>\n",
       "      <td>FEMALE</td>\n",
       "      <td>56.0</td>\n",
       "      <td>basic</td>\n",
       "      <td>3</td>\n",
       "      <td>en</td>\n",
       "      <td>direct</td>\n",
       "      <td>direct</td>\n",
       "      <td>untracked</td>\n",
       "      <td>Web</td>\n",
       "      <td>Windows Desktop</td>\n",
       "      <td>IE</td>\n",
       "      <td>US</td>\n",
       "    </tr>\n",
       "    <tr>\n",
       "      <th>3</th>\n",
       "      <td>bjjt8pjhuk</td>\n",
       "      <td>2011-12-05</td>\n",
       "      <td>20091031060129</td>\n",
       "      <td>2012-09-08</td>\n",
       "      <td>FEMALE</td>\n",
       "      <td>42.0</td>\n",
       "      <td>facebook</td>\n",
       "      <td>0</td>\n",
       "      <td>en</td>\n",
       "      <td>direct</td>\n",
       "      <td>direct</td>\n",
       "      <td>untracked</td>\n",
       "      <td>Web</td>\n",
       "      <td>Mac Desktop</td>\n",
       "      <td>Firefox</td>\n",
       "      <td>other</td>\n",
       "    </tr>\n",
       "    <tr>\n",
       "      <th>4</th>\n",
       "      <td>87mebub9p4</td>\n",
       "      <td>2010-09-14</td>\n",
       "      <td>20091208061105</td>\n",
       "      <td>2010-02-18</td>\n",
       "      <td>-unknown-</td>\n",
       "      <td>41.0</td>\n",
       "      <td>basic</td>\n",
       "      <td>0</td>\n",
       "      <td>en</td>\n",
       "      <td>direct</td>\n",
       "      <td>direct</td>\n",
       "      <td>untracked</td>\n",
       "      <td>Web</td>\n",
       "      <td>Mac Desktop</td>\n",
       "      <td>Chrome</td>\n",
       "      <td>US</td>\n",
       "    </tr>\n",
       "  </tbody>\n",
       "</table>\n",
       "</div>"
      ],
      "text/plain": [
       "                 id date_account_created  timestamp_first_active  \\\n",
       "train 0  gxn3p5htnn           2010-06-28          20090319043255   \n",
       "      1  820tgsjxq7           2011-05-25          20090523174809   \n",
       "      2  4ft3gnwmtx           2010-09-28          20090609231247   \n",
       "      3  bjjt8pjhuk           2011-12-05          20091031060129   \n",
       "      4  87mebub9p4           2010-09-14          20091208061105   \n",
       "\n",
       "        date_first_booking     gender   age signup_method signup_flow  \\\n",
       "train 0                NaN  -unknown-   NaN      facebook           0   \n",
       "      1                NaN       MALE  38.0      facebook           0   \n",
       "      2         2010-08-02     FEMALE  56.0         basic           3   \n",
       "      3         2012-09-08     FEMALE  42.0      facebook           0   \n",
       "      4         2010-02-18  -unknown-  41.0         basic           0   \n",
       "\n",
       "        language affiliate_channel affiliate_provider first_affiliate_tracked  \\\n",
       "train 0       en            direct             direct               untracked   \n",
       "      1       en               seo             google               untracked   \n",
       "      2       en            direct             direct               untracked   \n",
       "      3       en            direct             direct               untracked   \n",
       "      4       en            direct             direct               untracked   \n",
       "\n",
       "        signup_app first_device_type first_browser country_destination  \n",
       "train 0        Web       Mac Desktop        Chrome                 NDF  \n",
       "      1        Web       Mac Desktop        Chrome                 NDF  \n",
       "      2        Web   Windows Desktop            IE                  US  \n",
       "      3        Web       Mac Desktop       Firefox               other  \n",
       "      4        Web       Mac Desktop        Chrome                  US  "
      ]
     },
     "execution_count": 126,
     "metadata": {},
     "output_type": "execute_result"
    }
   ],
   "source": [
    "#date_account_created 2010-06-28\n",
    "#timestamp_first_active 20090319043255\n",
    "#pd.to_datetime(df_all.date_account_created , format='%YYYY%mm%dd')\n",
    "df_all.head()"
   ]
  },
  {
   "cell_type": "markdown",
   "metadata": {},
   "source": [
    "## Extract Information from date"
   ]
  },
  {
   "cell_type": "markdown",
   "metadata": {},
   "source": [
    "Here, we can extract year, month, day, the number of week and the weekday of account created date and first active date"
   ]
  },
  {
   "cell_type": "code",
   "execution_count": 89,
   "metadata": {
    "collapsed": false
   },
   "outputs": [],
   "source": [
    "# Time\n",
    "df_all.date_account_created = pd.to_datetime(df_all.date_account_created, format='%Y-%m-%d')\n",
    "df_all['year'] = df_all['date_account_created'].apply(lambda x: x.year)\n",
    "df_all['month'] = df_all['date_account_created'].apply(lambda x: x.month)\n",
    "df_all['day'] = df_all['date_account_created'].apply(lambda x: x.day)\n",
    "df_all['week'] = df_all['date_account_created'].apply(lambda x: x.week)\n",
    "df_all['weekday'] = df_all['date_account_created'].apply(lambda x: x.weekday_name)"
   ]
  },
  {
   "cell_type": "code",
   "execution_count": 90,
   "metadata": {
    "collapsed": false
   },
   "outputs": [],
   "source": [
    "# timestamp_first_active\n",
    "df_all.timestamp_first_active = pd.to_datetime(df_all.timestamp_first_active, format='%Y%m%d%H%M%S')\n",
    "df_all['first_year'] = df_all['timestamp_first_active'].apply(lambda x: x.year)\n",
    "df_all['first_month'] = df_all['timestamp_first_active'].apply(lambda x: x.month)\n",
    "df_all['first_day'] = df_all['timestamp_first_active'].apply(lambda x: x.day)\n",
    "df_all['first_week'] = df_all['timestamp_first_active'].apply(lambda x: x.week)\n",
    "df_all['first_weekday'] = df_all['timestamp_first_active'].apply(lambda x: x.weekday_name)\n",
    "df_all['first_hour'] = df_all['timestamp_first_active'].apply(lambda x: x.hour)\n",
    "df_all['interval'] = df_all.timestamp_first_active - df_all.date_account_created"
   ]
  },
  {
   "cell_type": "code",
   "execution_count": 86,
   "metadata": {
    "collapsed": false
   },
   "outputs": [],
   "source": [
    "# weekday vs booking\n",
    "#df_weekday_dest = pd.crosstab(index = df_all[\"weekday\"], columns = df_all[\"country_destination\"], margins=True)\n",
    "#df_weekday_dest_pct = df_weekday_dest.div(df_weekday_dest[\"All\"], axis=0)\n",
    "#df_weekday_dest_pct.drop(df_weekday_dest_pct.columns[12], axis=1).T.plot(kind='bar')"
   ]
  },
  {
   "cell_type": "code",
   "execution_count": 87,
   "metadata": {
    "collapsed": false
   },
   "outputs": [],
   "source": [
    "# month vs booking\n",
    "#df_month_dest = pd.crosstab(index = df_all[\"month\"], columns = df_all[\"country_destination\"], margins=True)\n",
    "#df_month_dest_pct = df_month_dest.div(df_month_dest[\"All\"], axis=0)\n",
    "#df_month_dest_pct.drop(df_month_dest_pct.columns[12], axis=1).T.plot(kind='bar')"
   ]
  },
  {
   "cell_type": "code",
   "execution_count": 91,
   "metadata": {
    "collapsed": false
   },
   "outputs": [
    {
     "data": {
      "text/plain": [
       "id                                  object\n",
       "date_account_created        datetime64[ns]\n",
       "timestamp_first_active      datetime64[ns]\n",
       "date_first_booking                  object\n",
       "gender                              object\n",
       "age                                float64\n",
       "signup_method                       object\n",
       "signup_flow                         object\n",
       "language                            object\n",
       "affiliate_channel                   object\n",
       "affiliate_provider                  object\n",
       "first_affiliate_tracked             object\n",
       "signup_app                          object\n",
       "first_device_type                   object\n",
       "first_browser                       object\n",
       "first_device_group                  object\n",
       "year                                 int64\n",
       "month                                int64\n",
       "day                                  int64\n",
       "week                                 int64\n",
       "weekday                             object\n",
       "first_year                           int64\n",
       "first_month                          int64\n",
       "first_day                            int64\n",
       "first_week                           int64\n",
       "first_weekday                       object\n",
       "first_hour                           int64\n",
       "interval                   timedelta64[ns]\n",
       "dtype: object"
      ]
     },
     "execution_count": 91,
     "metadata": {},
     "output_type": "execute_result"
    }
   ],
   "source": [
    "df_all.dtypes"
   ]
  },
  {
   "cell_type": "code",
   "execution_count": 94,
   "metadata": {
    "collapsed": false
   },
   "outputs": [
    {
     "data": {
      "text/plain": [
       "Index(['id', 'date_account_created', 'timestamp_first_active',\n",
       "       'date_first_booking', 'gender', 'age', 'signup_method', 'signup_flow',\n",
       "       'language', 'affiliate_channel', 'affiliate_provider',\n",
       "       'first_affiliate_tracked', 'signup_app', 'first_device_type',\n",
       "       'first_browser', 'first_device_group', 'year', 'month', 'day', 'week',\n",
       "       'weekday', 'first_year', 'first_month', 'first_day', 'first_week',\n",
       "       'first_weekday', 'first_hour', 'interval'],\n",
       "      dtype='object')"
      ]
     },
     "execution_count": 94,
     "metadata": {},
     "output_type": "execute_result"
    }
   ],
   "source": [
    "df_all.columns"
   ]
  },
  {
   "cell_type": "code",
   "execution_count": 105,
   "metadata": {
    "collapsed": false
   },
   "outputs": [],
   "source": [
    "df = df_all.drop(df_all.columns[[0, 1, 2, 3, 13]], axis = 1)"
   ]
  },
  {
   "cell_type": "code",
   "execution_count": 106,
   "metadata": {
    "collapsed": false
   },
   "outputs": [
    {
     "data": {
      "text/plain": [
       "gender                              object\n",
       "age                                float64\n",
       "signup_method                       object\n",
       "signup_flow                         object\n",
       "language                            object\n",
       "affiliate_channel                   object\n",
       "affiliate_provider                  object\n",
       "first_affiliate_tracked             object\n",
       "signup_app                          object\n",
       "first_browser                       object\n",
       "first_device_group                  object\n",
       "year                                 int64\n",
       "month                                int64\n",
       "day                                  int64\n",
       "week                                 int64\n",
       "weekday                             object\n",
       "first_year                           int64\n",
       "first_month                          int64\n",
       "first_day                            int64\n",
       "first_week                           int64\n",
       "first_weekday                       object\n",
       "first_hour                           int64\n",
       "interval                   timedelta64[ns]\n",
       "dtype: object"
      ]
     },
     "execution_count": 106,
     "metadata": {},
     "output_type": "execute_result"
    }
   ],
   "source": [
    "df.dtypes"
   ]
  },
  {
   "cell_type": "code",
   "execution_count": 102,
   "metadata": {
    "collapsed": false
   },
   "outputs": [
    {
     "data": {
      "text/plain": [
       "Index(['gender', 'age', 'signup_method', 'signup_flow', 'language',\n",
       "       'affiliate_channel', 'affiliate_provider', 'first_affiliate_tracked',\n",
       "       'signup_app', 'first_device_type', 'first_browser',\n",
       "       'first_device_group', 'year', 'month', 'day', 'week', 'weekday',\n",
       "       'first_year', 'first_month', 'first_day', 'first_week', 'first_weekday',\n",
       "       'first_hour', 'interval'],\n",
       "      dtype='object')"
      ]
     },
     "execution_count": 102,
     "metadata": {},
     "output_type": "execute_result"
    }
   ],
   "source": [
    "df.columns"
   ]
  },
  {
   "cell_type": "code",
   "execution_count": null,
   "metadata": {
    "collapsed": true
   },
   "outputs": [],
   "source": []
  },
  {
   "cell_type": "code",
   "execution_count": 107,
   "metadata": {
    "collapsed": false
   },
   "outputs": [],
   "source": [
    " # Categorize!\n",
    "#df[df.columns[[0, 2, 3,4, 5, 6, 7, 9,10,11, 12,13,14,15,16,17,18,19 ]]] = df[df.columns[[0, 1, 2, 3]]].apply(lambda x: x.astype('category'))\n",
    "df[df.columns[[0,2,3,4,5,6,7,8,9,10,11,12,13,14,15,16,17,18,19,20,21]]] = df[df.columns[[0,2,3,4,5,6,7,8,9,10,11,12,13,14,15,16,17,18,19,20,21]]].apply(lambda x: x.astype('category'))"
   ]
  },
  {
   "cell_type": "code",
   "execution_count": 120,
   "metadata": {
    "collapsed": false
   },
   "outputs": [],
   "source": [
    "# get dummies\n",
    "dat = pd.get_dummies(df,columns=df.columns[[0,2,3,4,5,6,7,8,9,10,11,12,13,14,15,16,17,18,19,20,21]])"
   ]
  },
  {
   "cell_type": "code",
   "execution_count": 121,
   "metadata": {
    "collapsed": false
   },
   "outputs": [
    {
     "data": {
      "text/html": [
       "<div>\n",
       "<table border=\"1\" class=\"dataframe\">\n",
       "  <thead>\n",
       "    <tr style=\"text-align: right;\">\n",
       "      <th></th>\n",
       "      <th></th>\n",
       "      <th>age</th>\n",
       "      <th>interval</th>\n",
       "      <th>gender_-unknown-</th>\n",
       "      <th>gender_FEMALE</th>\n",
       "      <th>gender_MALE</th>\n",
       "      <th>gender_OTHER</th>\n",
       "      <th>signup_method_basic</th>\n",
       "      <th>signup_method_facebook</th>\n",
       "      <th>signup_method_google</th>\n",
       "      <th>signup_method_weibo</th>\n",
       "      <th>...</th>\n",
       "      <th>first_hour_14</th>\n",
       "      <th>first_hour_15</th>\n",
       "      <th>first_hour_16</th>\n",
       "      <th>first_hour_17</th>\n",
       "      <th>first_hour_18</th>\n",
       "      <th>first_hour_19</th>\n",
       "      <th>first_hour_20</th>\n",
       "      <th>first_hour_21</th>\n",
       "      <th>first_hour_22</th>\n",
       "      <th>first_hour_23</th>\n",
       "    </tr>\n",
       "  </thead>\n",
       "  <tbody>\n",
       "    <tr>\n",
       "      <th rowspan=\"5\" valign=\"top\">train</th>\n",
       "      <th>0</th>\n",
       "      <td>0.0</td>\n",
       "      <td>-466 days +04:32:55</td>\n",
       "      <td>1.0</td>\n",
       "      <td>0.0</td>\n",
       "      <td>0.0</td>\n",
       "      <td>0.0</td>\n",
       "      <td>0.0</td>\n",
       "      <td>1.0</td>\n",
       "      <td>0.0</td>\n",
       "      <td>0.0</td>\n",
       "      <td>...</td>\n",
       "      <td>0.0</td>\n",
       "      <td>0.0</td>\n",
       "      <td>0.0</td>\n",
       "      <td>0.0</td>\n",
       "      <td>0.0</td>\n",
       "      <td>0.0</td>\n",
       "      <td>0.0</td>\n",
       "      <td>0.0</td>\n",
       "      <td>0.0</td>\n",
       "      <td>0.0</td>\n",
       "    </tr>\n",
       "    <tr>\n",
       "      <th>1</th>\n",
       "      <td>38.0</td>\n",
       "      <td>-732 days +17:48:09</td>\n",
       "      <td>0.0</td>\n",
       "      <td>0.0</td>\n",
       "      <td>1.0</td>\n",
       "      <td>0.0</td>\n",
       "      <td>0.0</td>\n",
       "      <td>1.0</td>\n",
       "      <td>0.0</td>\n",
       "      <td>0.0</td>\n",
       "      <td>...</td>\n",
       "      <td>0.0</td>\n",
       "      <td>0.0</td>\n",
       "      <td>0.0</td>\n",
       "      <td>1.0</td>\n",
       "      <td>0.0</td>\n",
       "      <td>0.0</td>\n",
       "      <td>0.0</td>\n",
       "      <td>0.0</td>\n",
       "      <td>0.0</td>\n",
       "      <td>0.0</td>\n",
       "    </tr>\n",
       "    <tr>\n",
       "      <th>2</th>\n",
       "      <td>56.0</td>\n",
       "      <td>-476 days +23:12:47</td>\n",
       "      <td>0.0</td>\n",
       "      <td>1.0</td>\n",
       "      <td>0.0</td>\n",
       "      <td>0.0</td>\n",
       "      <td>1.0</td>\n",
       "      <td>0.0</td>\n",
       "      <td>0.0</td>\n",
       "      <td>0.0</td>\n",
       "      <td>...</td>\n",
       "      <td>0.0</td>\n",
       "      <td>0.0</td>\n",
       "      <td>0.0</td>\n",
       "      <td>0.0</td>\n",
       "      <td>0.0</td>\n",
       "      <td>0.0</td>\n",
       "      <td>0.0</td>\n",
       "      <td>0.0</td>\n",
       "      <td>0.0</td>\n",
       "      <td>1.0</td>\n",
       "    </tr>\n",
       "    <tr>\n",
       "      <th>3</th>\n",
       "      <td>42.0</td>\n",
       "      <td>-765 days +06:01:29</td>\n",
       "      <td>0.0</td>\n",
       "      <td>1.0</td>\n",
       "      <td>0.0</td>\n",
       "      <td>0.0</td>\n",
       "      <td>0.0</td>\n",
       "      <td>1.0</td>\n",
       "      <td>0.0</td>\n",
       "      <td>0.0</td>\n",
       "      <td>...</td>\n",
       "      <td>0.0</td>\n",
       "      <td>0.0</td>\n",
       "      <td>0.0</td>\n",
       "      <td>0.0</td>\n",
       "      <td>0.0</td>\n",
       "      <td>0.0</td>\n",
       "      <td>0.0</td>\n",
       "      <td>0.0</td>\n",
       "      <td>0.0</td>\n",
       "      <td>0.0</td>\n",
       "    </tr>\n",
       "    <tr>\n",
       "      <th>4</th>\n",
       "      <td>41.0</td>\n",
       "      <td>-280 days +06:11:05</td>\n",
       "      <td>1.0</td>\n",
       "      <td>0.0</td>\n",
       "      <td>0.0</td>\n",
       "      <td>0.0</td>\n",
       "      <td>1.0</td>\n",
       "      <td>0.0</td>\n",
       "      <td>0.0</td>\n",
       "      <td>0.0</td>\n",
       "      <td>...</td>\n",
       "      <td>0.0</td>\n",
       "      <td>0.0</td>\n",
       "      <td>0.0</td>\n",
       "      <td>0.0</td>\n",
       "      <td>0.0</td>\n",
       "      <td>0.0</td>\n",
       "      <td>0.0</td>\n",
       "      <td>0.0</td>\n",
       "      <td>0.0</td>\n",
       "      <td>0.0</td>\n",
       "    </tr>\n",
       "  </tbody>\n",
       "</table>\n",
       "<p>5 rows × 312 columns</p>\n",
       "</div>"
      ],
      "text/plain": [
       "          age            interval  gender_-unknown-  gender_FEMALE  \\\n",
       "train 0   0.0 -466 days +04:32:55               1.0            0.0   \n",
       "      1  38.0 -732 days +17:48:09               0.0            0.0   \n",
       "      2  56.0 -476 days +23:12:47               0.0            1.0   \n",
       "      3  42.0 -765 days +06:01:29               0.0            1.0   \n",
       "      4  41.0 -280 days +06:11:05               1.0            0.0   \n",
       "\n",
       "         gender_MALE  gender_OTHER  signup_method_basic  \\\n",
       "train 0          0.0           0.0                  0.0   \n",
       "      1          1.0           0.0                  0.0   \n",
       "      2          0.0           0.0                  1.0   \n",
       "      3          0.0           0.0                  0.0   \n",
       "      4          0.0           0.0                  1.0   \n",
       "\n",
       "         signup_method_facebook  signup_method_google  signup_method_weibo  \\\n",
       "train 0                     1.0                   0.0                  0.0   \n",
       "      1                     1.0                   0.0                  0.0   \n",
       "      2                     0.0                   0.0                  0.0   \n",
       "      3                     1.0                   0.0                  0.0   \n",
       "      4                     0.0                   0.0                  0.0   \n",
       "\n",
       "             ...        first_hour_14  first_hour_15  first_hour_16  \\\n",
       "train 0      ...                  0.0            0.0            0.0   \n",
       "      1      ...                  0.0            0.0            0.0   \n",
       "      2      ...                  0.0            0.0            0.0   \n",
       "      3      ...                  0.0            0.0            0.0   \n",
       "      4      ...                  0.0            0.0            0.0   \n",
       "\n",
       "         first_hour_17  first_hour_18  first_hour_19  first_hour_20  \\\n",
       "train 0            0.0            0.0            0.0            0.0   \n",
       "      1            1.0            0.0            0.0            0.0   \n",
       "      2            0.0            0.0            0.0            0.0   \n",
       "      3            0.0            0.0            0.0            0.0   \n",
       "      4            0.0            0.0            0.0            0.0   \n",
       "\n",
       "         first_hour_21  first_hour_22  first_hour_23  \n",
       "train 0            0.0            0.0            0.0  \n",
       "      1            0.0            0.0            0.0  \n",
       "      2            0.0            0.0            1.0  \n",
       "      3            0.0            0.0            0.0  \n",
       "      4            0.0            0.0            0.0  \n",
       "\n",
       "[5 rows x 312 columns]"
      ]
     },
     "execution_count": 121,
     "metadata": {},
     "output_type": "execute_result"
    }
   ],
   "source": [
    "dat.head()"
   ]
  },
  {
   "cell_type": "code",
   "execution_count": 122,
   "metadata": {
    "collapsed": false
   },
   "outputs": [
    {
     "data": {
      "text/plain": [
       "Index(['age', 'interval', 'gender_-unknown-', 'gender_FEMALE', 'gender_MALE',\n",
       "       'gender_OTHER', 'signup_method_basic', 'signup_method_facebook',\n",
       "       'signup_method_google', 'signup_method_weibo',\n",
       "       ...\n",
       "       'first_hour_14', 'first_hour_15', 'first_hour_16', 'first_hour_17',\n",
       "       'first_hour_18', 'first_hour_19', 'first_hour_20', 'first_hour_21',\n",
       "       'first_hour_22', 'first_hour_23'],\n",
       "      dtype='object', length=312)"
      ]
     },
     "execution_count": 122,
     "metadata": {},
     "output_type": "execute_result"
    }
   ],
   "source": [
    "dat.columns"
   ]
  },
  {
   "cell_type": "markdown",
   "metadata": {
    "collapsed": true
   },
   "source": [
    "## Classification Modeling to Predict Destination Country"
   ]
  },
  {
   "cell_type": "code",
   "execution_count": 119,
   "metadata": {
    "collapsed": true
   },
   "outputs": [],
   "source": [
    "from sklearn import linear_model\n",
    "from sklearn import metrics\n",
    "from sklearn import ensemble\n",
    "from sklearn.preprocessing import scale, StandardScaler, Imputer, PolynomialFeatures\n",
    "from sklearn.ensemble import RandomForestClassifier, VotingClassifier, AdaBoostClassifier\n",
    "from sklearn.metrics import roc_auc_score\n",
    "from sklearn.model_selection import train_test_split, GridSearchCV\n",
    "from sklearn import svm"
   ]
  },
  {
   "cell_type": "code",
   "execution_count": 124,
   "metadata": {
    "collapsed": false
   },
   "outputs": [],
   "source": [
    "dat_train = dat.xs('train', level = 0)"
   ]
  },
  {
   "cell_type": "code",
   "execution_count": 135,
   "metadata": {
    "collapsed": false
   },
   "outputs": [
    {
     "data": {
      "text/html": [
       "<div>\n",
       "<table border=\"1\" class=\"dataframe\">\n",
       "  <thead>\n",
       "    <tr style=\"text-align: right;\">\n",
       "      <th></th>\n",
       "      <th>age</th>\n",
       "      <th>interval</th>\n",
       "      <th>gender_-unknown-</th>\n",
       "      <th>gender_FEMALE</th>\n",
       "      <th>gender_MALE</th>\n",
       "      <th>gender_OTHER</th>\n",
       "      <th>signup_method_basic</th>\n",
       "      <th>signup_method_facebook</th>\n",
       "      <th>signup_method_google</th>\n",
       "      <th>signup_method_weibo</th>\n",
       "      <th>...</th>\n",
       "      <th>first_hour_14</th>\n",
       "      <th>first_hour_15</th>\n",
       "      <th>first_hour_16</th>\n",
       "      <th>first_hour_17</th>\n",
       "      <th>first_hour_18</th>\n",
       "      <th>first_hour_19</th>\n",
       "      <th>first_hour_20</th>\n",
       "      <th>first_hour_21</th>\n",
       "      <th>first_hour_22</th>\n",
       "      <th>first_hour_23</th>\n",
       "    </tr>\n",
       "  </thead>\n",
       "  <tbody>\n",
       "    <tr>\n",
       "      <th>0</th>\n",
       "      <td>0.0</td>\n",
       "      <td>-466 days +04:32:55</td>\n",
       "      <td>1.0</td>\n",
       "      <td>0.0</td>\n",
       "      <td>0.0</td>\n",
       "      <td>0.0</td>\n",
       "      <td>0.0</td>\n",
       "      <td>1.0</td>\n",
       "      <td>0.0</td>\n",
       "      <td>0.0</td>\n",
       "      <td>...</td>\n",
       "      <td>0.0</td>\n",
       "      <td>0.0</td>\n",
       "      <td>0.0</td>\n",
       "      <td>0.0</td>\n",
       "      <td>0.0</td>\n",
       "      <td>0.0</td>\n",
       "      <td>0.0</td>\n",
       "      <td>0.0</td>\n",
       "      <td>0.0</td>\n",
       "      <td>0.0</td>\n",
       "    </tr>\n",
       "    <tr>\n",
       "      <th>1</th>\n",
       "      <td>38.0</td>\n",
       "      <td>-732 days +17:48:09</td>\n",
       "      <td>0.0</td>\n",
       "      <td>0.0</td>\n",
       "      <td>1.0</td>\n",
       "      <td>0.0</td>\n",
       "      <td>0.0</td>\n",
       "      <td>1.0</td>\n",
       "      <td>0.0</td>\n",
       "      <td>0.0</td>\n",
       "      <td>...</td>\n",
       "      <td>0.0</td>\n",
       "      <td>0.0</td>\n",
       "      <td>0.0</td>\n",
       "      <td>1.0</td>\n",
       "      <td>0.0</td>\n",
       "      <td>0.0</td>\n",
       "      <td>0.0</td>\n",
       "      <td>0.0</td>\n",
       "      <td>0.0</td>\n",
       "      <td>0.0</td>\n",
       "    </tr>\n",
       "    <tr>\n",
       "      <th>2</th>\n",
       "      <td>56.0</td>\n",
       "      <td>-476 days +23:12:47</td>\n",
       "      <td>0.0</td>\n",
       "      <td>1.0</td>\n",
       "      <td>0.0</td>\n",
       "      <td>0.0</td>\n",
       "      <td>1.0</td>\n",
       "      <td>0.0</td>\n",
       "      <td>0.0</td>\n",
       "      <td>0.0</td>\n",
       "      <td>...</td>\n",
       "      <td>0.0</td>\n",
       "      <td>0.0</td>\n",
       "      <td>0.0</td>\n",
       "      <td>0.0</td>\n",
       "      <td>0.0</td>\n",
       "      <td>0.0</td>\n",
       "      <td>0.0</td>\n",
       "      <td>0.0</td>\n",
       "      <td>0.0</td>\n",
       "      <td>1.0</td>\n",
       "    </tr>\n",
       "    <tr>\n",
       "      <th>3</th>\n",
       "      <td>42.0</td>\n",
       "      <td>-765 days +06:01:29</td>\n",
       "      <td>0.0</td>\n",
       "      <td>1.0</td>\n",
       "      <td>0.0</td>\n",
       "      <td>0.0</td>\n",
       "      <td>0.0</td>\n",
       "      <td>1.0</td>\n",
       "      <td>0.0</td>\n",
       "      <td>0.0</td>\n",
       "      <td>...</td>\n",
       "      <td>0.0</td>\n",
       "      <td>0.0</td>\n",
       "      <td>0.0</td>\n",
       "      <td>0.0</td>\n",
       "      <td>0.0</td>\n",
       "      <td>0.0</td>\n",
       "      <td>0.0</td>\n",
       "      <td>0.0</td>\n",
       "      <td>0.0</td>\n",
       "      <td>0.0</td>\n",
       "    </tr>\n",
       "    <tr>\n",
       "      <th>4</th>\n",
       "      <td>41.0</td>\n",
       "      <td>-280 days +06:11:05</td>\n",
       "      <td>1.0</td>\n",
       "      <td>0.0</td>\n",
       "      <td>0.0</td>\n",
       "      <td>0.0</td>\n",
       "      <td>1.0</td>\n",
       "      <td>0.0</td>\n",
       "      <td>0.0</td>\n",
       "      <td>0.0</td>\n",
       "      <td>...</td>\n",
       "      <td>0.0</td>\n",
       "      <td>0.0</td>\n",
       "      <td>0.0</td>\n",
       "      <td>0.0</td>\n",
       "      <td>0.0</td>\n",
       "      <td>0.0</td>\n",
       "      <td>0.0</td>\n",
       "      <td>0.0</td>\n",
       "      <td>0.0</td>\n",
       "      <td>0.0</td>\n",
       "    </tr>\n",
       "  </tbody>\n",
       "</table>\n",
       "<p>5 rows × 312 columns</p>\n",
       "</div>"
      ],
      "text/plain": [
       "    age            interval  gender_-unknown-  gender_FEMALE  gender_MALE  \\\n",
       "0   0.0 -466 days +04:32:55               1.0            0.0          0.0   \n",
       "1  38.0 -732 days +17:48:09               0.0            0.0          1.0   \n",
       "2  56.0 -476 days +23:12:47               0.0            1.0          0.0   \n",
       "3  42.0 -765 days +06:01:29               0.0            1.0          0.0   \n",
       "4  41.0 -280 days +06:11:05               1.0            0.0          0.0   \n",
       "\n",
       "   gender_OTHER  signup_method_basic  signup_method_facebook  \\\n",
       "0           0.0                  0.0                     1.0   \n",
       "1           0.0                  0.0                     1.0   \n",
       "2           0.0                  1.0                     0.0   \n",
       "3           0.0                  0.0                     1.0   \n",
       "4           0.0                  1.0                     0.0   \n",
       "\n",
       "   signup_method_google  signup_method_weibo      ...        first_hour_14  \\\n",
       "0                   0.0                  0.0      ...                  0.0   \n",
       "1                   0.0                  0.0      ...                  0.0   \n",
       "2                   0.0                  0.0      ...                  0.0   \n",
       "3                   0.0                  0.0      ...                  0.0   \n",
       "4                   0.0                  0.0      ...                  0.0   \n",
       "\n",
       "   first_hour_15  first_hour_16  first_hour_17  first_hour_18  first_hour_19  \\\n",
       "0            0.0            0.0            0.0            0.0            0.0   \n",
       "1            0.0            0.0            1.0            0.0            0.0   \n",
       "2            0.0            0.0            0.0            0.0            0.0   \n",
       "3            0.0            0.0            0.0            0.0            0.0   \n",
       "4            0.0            0.0            0.0            0.0            0.0   \n",
       "\n",
       "   first_hour_20  first_hour_21  first_hour_22  first_hour_23  \n",
       "0            0.0            0.0            0.0            0.0  \n",
       "1            0.0            0.0            0.0            0.0  \n",
       "2            0.0            0.0            0.0            1.0  \n",
       "3            0.0            0.0            0.0            0.0  \n",
       "4            0.0            0.0            0.0            0.0  \n",
       "\n",
       "[5 rows x 312 columns]"
      ]
     },
     "execution_count": 135,
     "metadata": {},
     "output_type": "execute_result"
    }
   ],
   "source": [
    "dat_train.head()"
   ]
  },
  {
   "cell_type": "code",
   "execution_count": 129,
   "metadata": {
    "collapsed": true
   },
   "outputs": [],
   "source": [
    "dat_test = dat.xs('test', level = 0)"
   ]
  },
  {
   "cell_type": "code",
   "execution_count": 136,
   "metadata": {
    "collapsed": false
   },
   "outputs": [],
   "source": [
    "X_train, X_test, y_train, y_test = train_test_split(dat_train.drop(dat_train.columns[1], axis=1), target, test_size=0.30, random_state=42)"
   ]
  },
  {
   "cell_type": "code",
   "execution_count": null,
   "metadata": {
    "collapsed": true
   },
   "outputs": [],
   "source": [
    "weights = {0:1, 1:3}"
   ]
  },
  {
   "cell_type": "code",
   "execution_count": 138,
   "metadata": {
    "collapsed": false
   },
   "outputs": [
    {
     "name": "stdout",
     "output_type": "stream",
     "text": [
      "             precision    recall  f1-score   support\n",
      "\n",
      "         AU       0.04      0.01      0.01       171\n",
      "         CA       0.01      0.00      0.00       420\n",
      "         DE       0.00      0.00      0.00       334\n",
      "         ES       0.01      0.00      0.00       686\n",
      "         FR       0.03      0.01      0.01      1505\n",
      "         GB       0.02      0.00      0.01       748\n",
      "         IT       0.02      0.00      0.01       866\n",
      "        NDF       0.65      0.82      0.73     37206\n",
      "         NL       0.00      0.00      0.00       225\n",
      "         PT       0.00      0.00      0.00        77\n",
      "         US       0.44      0.37      0.40     18785\n",
      "      other       0.06      0.01      0.02      3013\n",
      "\n",
      "avg / total       0.51      0.59      0.54     64036\n",
      "\n"
     ]
    }
   ],
   "source": [
    "rf = RandomForestClassifier()\n",
    "rf = rf.fit(X_train, y_train)\n",
    "y_pred = rf.predict(X_test)\n",
    "print(metrics.classification_report(y_test, y_pred))"
   ]
  },
  {
   "cell_type": "code",
   "execution_count": null,
   "metadata": {
    "collapsed": false
   },
   "outputs": [],
   "source": [
    "y_train.value_counts()"
   ]
  },
  {
   "cell_type": "code",
   "execution_count": null,
   "metadata": {
    "collapsed": true
   },
   "outputs": [],
   "source": []
  }
 ],
 "metadata": {
  "anaconda-cloud": {},
  "kernelspec": {
   "display_name": "Python [conda root]",
   "language": "python",
   "name": "conda-root-py"
  },
  "language_info": {
   "codemirror_mode": {
    "name": "ipython",
    "version": 3
   },
   "file_extension": ".py",
   "mimetype": "text/x-python",
   "name": "python",
   "nbconvert_exporter": "python",
   "pygments_lexer": "ipython3",
   "version": "3.5.2"
  }
 },
 "nbformat": 4,
 "nbformat_minor": 0
}
